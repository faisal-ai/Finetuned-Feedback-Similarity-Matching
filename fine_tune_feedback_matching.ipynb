{
 "cells": [
  {
   "metadata": {},
   "cell_type": "code",
   "source": [
    "!pip install -U sentence-transformers faiss-cpu\n",
    "!pip install -U sentence-transformers\n",
    "\n",
    "from sentence_transformers import SentenceTransformer, CrossEncoder, InputExample\n",
    "import faiss\n",
    "import pandas as pd\n",
    "import numpy as np"
   ],
   "id": "fbc121e30a2defb3",
   "outputs": [],
   "execution_count": null
  },
  {
   "metadata": {
    "ExecuteTime": {
     "end_time": "2025-05-24T00:49:20.537923Z",
     "start_time": "2025-05-24T00:49:20.532045Z"
    }
   },
   "cell_type": "code",
   "source": [
    "feedback_df = pd.read_csv(\"/Users/faisal/PycharmProjects/PythonProject/JupyterProject/Data/feedbacks.csv\", encoding=\"utf-8\")\n",
    "backlog_df = pd.read_csv(\"/Users/faisal/PycharmProjects/PythonProject/JupyterProject/Data/backlog_items.csv\")"
   ],
   "id": "3db6644e761cfab3",
   "outputs": [],
   "execution_count": 2
  },
  {
   "metadata": {
    "ExecuteTime": {
     "end_time": "2025-05-24T00:49:23.047152Z",
     "start_time": "2025-05-24T00:49:20.550796Z"
    }
   },
   "cell_type": "code",
   "source": "model = SentenceTransformer('all-MiniLM-L6-v2')  # can use stronger ones",
   "id": "791b7200c468f169",
   "outputs": [],
   "execution_count": 3
  },
  {
   "metadata": {},
   "cell_type": "code",
   "outputs": [],
   "execution_count": null,
   "source": [
    "# Path to your labeled pairs CSV in DBFS\n",
    "data_path = \"/dbfs/path/to/your_feedback_backlog_pairs.csv\"\n",
    "\n",
    "# Load CSV: columns = feedback_text, backlog_text, label (1 = match, 0 = not match)\n",
    "df = pd.read_csv(data_path)\n",
    "\n",
    "# Create InputExample list\n",
    "train_samples = [\n",
    "    InputExample(texts=[row['feedback_text'], row['backlog_text']], label=float(row['label']))\n",
    "    for _, row in df.iterrows()\n",
    "]"
   ],
   "id": "8015823dbfd3c38e"
  },
  {
   "metadata": {},
   "cell_type": "code",
   "source": [
    "# Step 3: Prepare Model & Dataloader\n",
    "from sentence_transformers import SentenceTransformer, losses\n",
    "from torch.utils.data import DataLoader\n",
    "\n",
    "# Load a pre-trained Sentence-BERT model\n",
    "model = SentenceTransformer('all-MiniLM-L6-v2')\n",
    "\n",
    "# Prepare the dataloader\n",
    "train_dataloader = DataLoader(train_samples, shuffle=True, batch_size=16)\n",
    "\n",
    "# Define the loss function (contrastive)\n",
    "train_loss = losses.CosineSimilarityLoss(model=model)"
   ],
   "id": "323a9a5ddf800098",
   "outputs": [],
   "execution_count": null
  },
  {
   "metadata": {},
   "cell_type": "code",
   "outputs": [],
   "execution_count": null,
   "source": [
    "# Step 4: Fine-Tune the Model\n",
    "model_save_path = \"/dbfs/path/to/fine_tuned_model/\"\n",
    "num_epochs = 2\n",
    "\n",
    "model.fit(\n",
    "    train_objectives=[(train_dataloader, train_loss)],\n",
    "    epochs=num_epochs,\n",
    "    warmup_steps=10,\n",
    "    output_path=model_save_path\n",
    ")"
   ],
   "id": "d8ab1fa0da9973af"
  },
  {
   "metadata": {},
   "cell_type": "code",
   "source": [
    "# Step 5: Use the Fine-Tuned Model\n",
    "# Load fine-tuned model\n",
    "fine_tuned_model = SentenceTransformer(model_save_path)"
   ],
   "id": "b1813e51f3cf1451",
   "outputs": [],
   "execution_count": null
  },
  {
   "metadata": {
    "ExecuteTime": {
     "end_time": "2025-05-24T00:49:23.264321Z",
     "start_time": "2025-05-24T00:49:23.063921Z"
    }
   },
   "cell_type": "code",
   "source": [
    "# Embedding backlog items\n",
    "backlog_embeddings = model.encode(backlog_df[\"backlog_text\"].tolist(), show_progress_bar=True, convert_to_numpy=True)"
   ],
   "id": "91d85ec09db2286d",
   "outputs": [
    {
     "data": {
      "text/plain": [
       "Batches:   0%|          | 0/1 [00:00<?, ?it/s]"
      ],
      "application/vnd.jupyter.widget-view+json": {
       "version_major": 2,
       "version_minor": 0,
       "model_id": "29b0451ec2474b238a64ab0d1e1036f6"
      }
     },
     "metadata": {},
     "output_type": "display_data"
    }
   ],
   "execution_count": 4
  },
  {
   "metadata": {
    "ExecuteTime": {
     "end_time": "2025-05-24T00:49:25.085219Z",
     "start_time": "2025-05-24T00:49:25.081655Z"
    }
   },
   "cell_type": "code",
   "source": [
    "dimension = backlog_embeddings.shape[1]\n",
    "index = faiss.IndexFlatL2(dimension)\n",
    "index.add(backlog_embeddings)"
   ],
   "id": "ff525ab9bfba58e8",
   "outputs": [],
   "execution_count": 5
  },
  {
   "metadata": {
    "ExecuteTime": {
     "end_time": "2025-05-24T01:14:11.445500Z",
     "start_time": "2025-05-24T01:14:11.268626Z"
    }
   },
   "cell_type": "code",
   "source": [
    "feedback_texts = feedback_df[\"feedbacks\"].dropna()\n",
    "feedback_texts = feedback_texts[feedback_texts.apply(lambda x: isinstance(x, str))]  # Keep only strings\n",
    "feedback_texts = feedback_texts.tolist()\n",
    "feedback_embeddings = model.encode(feedback_texts, show_progress_bar=True, convert_to_numpy=True)"
   ],
   "id": "34fc17ed8d692da6",
   "outputs": [
    {
     "data": {
      "text/plain": [
       "Batches:   0%|          | 0/1 [00:00<?, ?it/s]"
      ],
      "application/vnd.jupyter.widget-view+json": {
       "version_major": 2,
       "version_minor": 0,
       "model_id": "b5402ad6fd4448728ff5c0525c644f61"
      }
     },
     "metadata": {},
     "output_type": "display_data"
    }
   ],
   "execution_count": 27
  },
  {
   "metadata": {
    "ExecuteTime": {
     "end_time": "2025-05-24T01:14:19.274221Z",
     "start_time": "2025-05-24T01:14:19.270736Z"
    }
   },
   "cell_type": "code",
   "source": [
    "feedback_embeddings = np.ascontiguousarray(np.array(feedback_embeddings, dtype=np.float32))\n",
    "backlog_embeddings = np.ascontiguousarray(np.array(backlog_embeddings, dtype=np.float32))"
   ],
   "id": "61fd7b34f6ab3b03",
   "outputs": [],
   "execution_count": 28
  },
  {
   "metadata": {},
   "cell_type": "code",
   "source": [
    "# Run batch search\n",
    "K = 5  # number of nearest neighbors\n",
    "all_distances = []\n",
    "all_indices = []\n",
    "\n",
    "for i in range(feedback_embeddings.shape[0]):\n",
    "    D_i, I_i = index.search(feedback_embeddings[i:i+1], K)\n",
    "    all_distances.append(D_i)\n",
    "    all_indices.append(I_i)\n",
    "    print(f\"Search {i+1}/{feedback_embeddings.shape[0]} done\")\n",
    "\n",
    "# Convert lists to numpy arrays\n",
    "D = np.vstack(all_distances)\n",
    "I = np.vstack(all_indices)\n",
    "print(\"All searches complete:\", D.shape, I.shape)"
   ],
   "id": "96584872096813c3",
   "outputs": [],
   "execution_count": null
  },
  {
   "metadata": {
    "ExecuteTime": {
     "end_time": "2025-05-24T01:17:47.365075Z",
     "start_time": "2025-05-24T01:17:47.358019Z"
    }
   },
   "cell_type": "code",
   "source": [
    "match_results = []\n",
    "\n",
    "for i in range(len(feedback_texts)):\n",
    "    feedback = feedback_texts[i]\n",
    "    for rank, idx in enumerate(I[i]):\n",
    "        backlog_text = backlog_df.iloc[idx][\"backlog_text\"]\n",
    "        distance = D[i][rank]\n",
    "        match_results.append({\n",
    "            \"feedback_text\": feedback,\n",
    "            \"backlog_text\": backlog_text,\n",
    "            \"distance\": distance,\n",
    "            \"rank\": rank + 1\n",
    "        })\n",
    "\n",
    "matches_df = pd.DataFrame(match_results)\n",
    "# Optional: display first few matches\n",
    "print(matches_df.head())"
   ],
   "id": "e825c35a83879ce2",
   "outputs": [
    {
     "name": "stdout",
     "output_type": "stream",
     "text": [
      "                                                feedback_text  \\\n",
      "0  The app keeps freezing randomly, not sure what's going on.   \n",
      "1  The app keeps freezing randomly, not sure what's going on.   \n",
      "2  The app keeps freezing randomly, not sure what's going on.   \n",
      "3  The app keeps freezing randomly, not sure what's going on.   \n",
      "4  The app keeps freezing randomly, not sure what's going on.   \n",
      "\n",
      "                                                 backlog_text  distance  rank  \n",
      "0    Fix intermittent crash occurring on content detail view.  1.254880     1  \n",
      "1  Improve application performance during screen transitions.  1.330254     2  \n",
      "2            Implement dark mode UI fixes across all devices.  1.639975     3  \n",
      "3         Enable persistent login and device handoff support.  1.665462     4  \n",
      "4  Introduce a simplified layout for better mobile usability.  1.791740     5  \n"
     ]
    }
   ],
   "execution_count": 32
  },
  {
   "metadata": {
    "ExecuteTime": {
     "end_time": "2025-05-24T01:17:53.607759Z",
     "start_time": "2025-05-24T01:17:51.380447Z"
    }
   },
   "cell_type": "code",
   "source": [
    "# For better precision, re-rank top-K using a cross-encoder\n",
    "cross_encoder = CrossEncoder('cross-encoder/ms-marco-MiniLM-L-6-v2')\n",
    "matches_df[\"pair\"] = matches_df.apply(lambda row: (row[\"feedback_text\"], row[\"backlog_text\"]), axis=1)\n",
    "matches_df[\"score\"] = cross_encoder.predict(matches_df[\"pair\"].tolist())"
   ],
   "id": "3cc02e4d9a15dc17",
   "outputs": [],
   "execution_count": 33
  },
  {
   "metadata": {
    "ExecuteTime": {
     "end_time": "2025-05-24T01:17:59.359352Z",
     "start_time": "2025-05-24T01:17:59.350674Z"
    }
   },
   "cell_type": "code",
   "source": [
    "# Sort matches by feedback_text and descending cross-encoder score\n",
    "top_matches = (\n",
    "    matches_df.sort_values(by=[\"feedback_text\", \"score\"], ascending=[True, False])\n",
    "              .groupby(\"feedback_text\")\n",
    "              .head(1)  # Take top-1 match per feedback\n",
    "              .reset_index(drop=True)\n",
    ")\n",
    "# Display the result\n",
    "pd.set_option(\"display.max_colwidth\", None)  # Ensure full text is shown\n",
    "print(top_matches[[\"feedback_text\", \"backlog_text\", \"score\"]])"
   ],
   "id": "f5176b37304b871e",
   "outputs": [
    {
     "name": "stdout",
     "output_type": "stream",
     "text": [
      "                                                 feedback_text  \\\n",
      "0               App behaves differently on my tablet vs phone.   \n",
      "1           App crashes when I try to open a specific section.   \n",
      "2     Can you please make it easier to find stuff in the menu?   \n",
      "3                    Dark mode isn't working properly anymore.   \n",
      "4                  I can't seem to change my settings anymore.   \n",
      "5                 I keep getting the same error over and over.   \n",
      "6               I lose track of where I am in the flow easily.   \n",
      "7            I miss how things used to work before the update.   \n",
      "8               I really wish the interface was a bit cleaner.   \n",
      "9                 It's hard to tell what some icons even mean.   \n",
      "10           Logging in is a pain every time I switch devices.   \n",
      "11            Need more control over notifications and alerts.   \n",
      "12                 Not sure how to go back without restarting.   \n",
      "13                     Not sure if my changes are being saved.   \n",
      "14          Notifications aren't showing up like they used to.   \n",
      "15                 Please add a way to organize things better.   \n",
      "16                        Random popups make it hard to focus.   \n",
      "17      Search results are not what I expect most of the time.   \n",
      "18                       Some actions feel super laggy lately.   \n",
      "19                        Some content never loads completely.   \n",
      "20        Something is off with the layout on smaller screens.   \n",
      "21                   Sometimes I get logged out for no reason.   \n",
      "22  The app keeps freezing randomly, not sure what's going on.   \n",
      "23                       The text looks weird on some screens.   \n",
      "24          This new version feels more confusing than before.   \n",
      "25                   Too many clicks just to do a simple task.   \n",
      "26                    Touch gestures aren't always responsive.   \n",
      "27             Updating things feels clunky and old-fashioned.   \n",
      "28                 Where's the button for submitting feedback?   \n",
      "29            Why does it take so long to load the screen now?   \n",
      "\n",
      "                                                    backlog_text      score  \n",
      "0     Introduce a simplified layout for better mobile usability.  -9.576930  \n",
      "1       Fix intermittent crash occurring on content detail view.  -8.947824  \n",
      "2        Redesign the menu structure to enhance discoverability.  -8.093531  \n",
      "3               Implement dark mode UI fixes across all devices.  -0.102273  \n",
      "4        Redesign the menu structure to enhance discoverability. -10.098537  \n",
      "5       Resolve layout rendering issues on smaller form factors. -10.485649  \n",
      "6            Refactor authentication flow for session stability. -10.798794  \n",
      "7   Add support for contextual notifications with user controls. -11.065710  \n",
      "8     Introduce a simplified layout for better mobile usability. -11.150844  \n",
      "9     Improve application performance during screen transitions. -10.819817  \n",
      "10           Enable persistent login and device handoff support.  -7.115597  \n",
      "11  Add support for contextual notifications with user controls.   1.099150  \n",
      "12           Enable persistent login and device handoff support. -10.758537  \n",
      "13           Enable persistent login and device handoff support. -11.033067  \n",
      "14  Add support for contextual notifications with user controls.  -4.669958  \n",
      "15    Introduce a simplified layout for better mobile usability.  -8.172787  \n",
      "16    Improve application performance during screen transitions. -11.162837  \n",
      "17    Optimize search algorithm to improve relevance of results.  -8.896402  \n",
      "18    Improve application performance during screen transitions. -11.370743  \n",
      "19      Fix intermittent crash occurring on content detail view.  -9.921267  \n",
      "20      Resolve layout rendering issues on smaller form factors.  -3.715902  \n",
      "21           Enable persistent login and device handoff support.  -9.120886  \n",
      "22      Fix intermittent crash occurring on content detail view. -10.695480  \n",
      "23    Improve application performance during screen transitions.  -9.596039  \n",
      "24    Introduce a simplified layout for better mobile usability. -10.169806  \n",
      "25    Improve application performance during screen transitions. -11.151000  \n",
      "26    Improve application performance during screen transitions. -10.592535  \n",
      "27       Redesign the menu structure to enhance discoverability. -10.698456  \n",
      "28  Add support for contextual notifications with user controls. -10.205710  \n",
      "29    Improve application performance during screen transitions.  -9.277162  \n"
     ]
    }
   ],
   "execution_count": 34
  }
 ],
 "metadata": {
  "kernelspec": {
   "display_name": "Python 3",
   "language": "python",
   "name": "python3"
  },
  "language_info": {
   "codemirror_mode": {
    "name": "ipython",
    "version": 2
   },
   "file_extension": ".py",
   "mimetype": "text/x-python",
   "name": "python",
   "nbconvert_exporter": "python",
   "pygments_lexer": "ipython2",
   "version": "2.7.6"
  }
 },
 "nbformat": 4,
 "nbformat_minor": 5
}
